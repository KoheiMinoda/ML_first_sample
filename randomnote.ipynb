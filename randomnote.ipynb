{
  "nbformat": 4,
  "nbformat_minor": 0,
  "metadata": {
    "colab": {
      "provenance": [],
      "authorship_tag": "ABX9TyPsHRfDOQNFdFJtwEAXL3mZ",
      "include_colab_link": true
    },
    "kernelspec": {
      "name": "python3",
      "display_name": "Python 3"
    },
    "language_info": {
      "name": "python"
    }
  },
  "cells": [
    {
      "cell_type": "markdown",
      "metadata": {
        "id": "view-in-github",
        "colab_type": "text"
      },
      "source": [
        "<a href=\"https://colab.research.google.com/github/KoheiMinoda/ML_first_sample/blob/main/randomnote.ipynb\" target=\"_parent\"><img src=\"https://colab.research.google.com/assets/colab-badge.svg\" alt=\"Open In Colab\"/></a>"
      ]
    },
    {
      "cell_type": "code",
      "execution_count": null,
      "metadata": {
        "colab": {
          "base_uri": "https://localhost:8080/"
        },
        "id": "hpvvps2G0G0g",
        "outputId": "2892f775-3505-43d1-8e33-873d03b3b50b"
      },
      "outputs": [
        {
          "output_type": "stream",
          "name": "stdout",
          "text": [
            "243\n"
          ]
        }
      ],
      "source": [
        "leap_year = []\n",
        "\n",
        "for year in range(1000, 2000+1):\n",
        "  if year % 400 == 0:\n",
        "    leap_year.append(year)\n",
        "  elif year % 100 == 0:\n",
        "    continue\n",
        "  elif year % 4 == 0:\n",
        "    leap_year.append(year)\n",
        "\n",
        "print(len(leap_year))"
      ]
    }
  ]
}